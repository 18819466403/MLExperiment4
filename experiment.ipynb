{
 "cells": [
  {
   "cell_type": "code",
   "execution_count": 5,
   "metadata": {
    "scrolled": true
   },
   "outputs": [
    {
     "data": {
      "image/png": "[encoded data removed]",
      "text/plain": [
       "<matplotlib.figure.Figure at 0x1ebe7d4bb38>"
      ]
     },
     "metadata": {},
     "output_type": "display_data"
    }
   ],
   "source": [
    "import numpy as np\n",
    "from numpy import *\n",
    "import pickle\n",
    "import random\n",
    "import matplotlib.pyplot as plt\n",
    "def getDate(trainFilePath,testFilePath):\n",
    "    fileTrain = open(trainFilePath, \"r\")\n",
    "    fileTest = open(testFilePath,'r')\n",
    "    train = np.loadtxt(fileTrain)\n",
    "    test = np.loadtxt(fileTest)\n",
    "    min1 = min(train[:, 0])\n",
    "    max1 = max(train[:, 0])\n",
    "    row = int(max1 - min1 + 1)\n",
    "    col = 1682\n",
    "    trainMat = np.zeros(row * col).reshape(row, col)\n",
    "    min2 = min(test[:, 0])\n",
    "    max2 = max(test[:, 0])\n",
    "    row = int(max2 - min2 + 1)\n",
    "\n",
    "    testMat = np.zeros(row * col).reshape(row, col)\n",
    "    for i in range(train.shape[0]):\n",
    "        r = int(train[i][0] - min1)\n",
    "        c = int(train[i][1] - min1)\n",
    "        trainMat[r][c] = train[i][2]\n",
    "    for i in range(test.shape[0]):\n",
    "        r = int(test[i][0] - min2)\n",
    "        c = int(test[i][1] - min2)\n",
    "        testMat[r][c] = test[i][2]\n",
    "    return trainMat, testMat\n",
    "\n",
    "def randomSelect(mat):\n",
    "    u = random.randint(0,mat.shape[0]-1)\n",
    "    i = random.randint(0,mat.shape[1]-1)\n",
    "    return u,i\n",
    "def loss(mat,P,Q,lamdaP,lamdaQ):\n",
    "    error = 0\n",
    "    for i in range(mat.shape[0]):\n",
    "        for j in range(mat.shape[1]):\n",
    "            error += (mat[i][j]-P[i].dot(Q[:,j]))*(mat[i][j]-P[i].dot(Q[:,j]))\n",
    "    rp = 0\n",
    "    rq = 0\n",
    "    for i in range(mat.shape[0]):\n",
    "        rp += sum(P[i] ** 2)\n",
    "    for j in range(mat.shape[1]):\n",
    "        rq += sum(Q[:, j] ** 2)\n",
    "    error += lamdaP*rp + lamdaQ*rq\n",
    "    return error/mat.shape[0]\n",
    "\n",
    "\n",
    "def gradient(mat,P,Q,u,i,lamdaP,lamdaQ):\n",
    "    e = mat[u][i]-P[u].dot(Q[:,i])\n",
    "    gpu=-e*Q[:,i]+lamdaP*P[u]\n",
    "    gqi=-e*P[u]+lamdaQ*Q[:,i]\n",
    "    return gpu,gqi\n",
    "\n",
    "trainFilePath=\"K:\\\\courses\\\\machine learning\\\\ml-100k\\\\u1.base\"\n",
    "testFilePath=\"K:\\\\courses\\\\machine learning\\\\ml-100k\\\\u1.test\"\n",
    "trainMat,testMat=getDate(trainFilePath,testFilePath)\n",
    "P = np.random.rand(trainMat.shape[0]*2).reshape(trainMat.shape[0],2)\n",
    "Q = np.random.rand(2,trainMat.shape[1]).reshape(2,trainMat.shape[1])\n",
    "trainLoss=[]\n",
    "testLoss=[]\n",
    "iteration =1000\n",
    "learningRate=0.01\n",
    "step=500\n",
    "for j in range(iteration):\n",
    "    error = loss(testMat,P,Q,0.001,0.001)\n",
    "    for s in range(step):\n",
    "        u,i=randomSelect(trainMat)\n",
    "        gpu,gqi=gradient(trainMat,P,Q,u,i,0.001,0.001)\n",
    "        P[u]=P[u]-learningRate*gpu\n",
    "        Q[:,i]=Q[:,i]-learningRate*gqi\n",
    "    testLoss.append(error)\n",
    "\n",
    "plt.plot(range(iteration),testLoss, label='test loss')\n",
    "#plt.plot(range(iteration),validateLoss, label='validtion loss')\n",
    "plt.xlabel('iteration')\n",
    "plt.ylabel('loss')\n",
    "plt.legend()\n",
    "plt.show()"
   ]
  },
  {
   "cell_type": "code",
   "execution_count": null,
   "metadata": {
    "collapsed": true
   },
   "outputs": [],
   "source": []
  },
  {
   "cell_type": "code",
   "execution_count": null,
   "metadata": {
    "collapsed": true
   },
   "outputs": [],
   "source": []
  }
 ],
 "metadata": {
  "kernelspec": {
   "display_name": "Python 3",
   "language": "python",
   "name": "python3"
  },
  "language_info": {
   "codemirror_mode": {
    "name": "ipython",
    "version": 3
   },
   "file_extension": ".py",
   "mimetype": "text/x-python",
   "name": "python",
   "nbconvert_exporter": "python",
   "pygments_lexer": "ipython3",
   "version": "3.6.2"
  }
 },
 "nbformat": 4,
 "nbformat_minor": 2
}
